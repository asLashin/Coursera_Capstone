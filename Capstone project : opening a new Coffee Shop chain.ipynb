{
    "cells": [
        {
            "metadata": {
                "collapsed": true
            },
            "cell_type": "markdown",
            "source": "# Capstone project : Opening a New Coffee Shop Chain .. "
        },
        {
            "metadata": {},
            "cell_type": "markdown",
            "source": "------------------------------------------------------------------------------------"
        },
        {
            "metadata": {},
            "cell_type": "markdown",
            "source": "## Introduction"
        },
        {
            "metadata": {},
            "cell_type": "markdown",
            "source": "My client is a businessman who is looking to open a new coffee shop chain in the city of Toronto. My client is hoping to build a local chain that can stand out in front of the international coffee chains that are everywhere in Toronto and Canada. In order to eliminate or at least decrease the competition specially in the early stage of the project, my client would like to open in areas where there are no coffee shops or let us say the minimum competition. \n\n\n"
        },
        {
            "metadata": {},
            "cell_type": "markdown",
            "source": "We will conduct a case study to analyze different locations / boroughs in Toronto city to help our customer to select the best location for his new coffee shop chain. "
        },
        {
            "metadata": {},
            "cell_type": "markdown",
            "source": "## Data"
        },
        {
            "metadata": {},
            "cell_type": "markdown",
            "source": "The following data will be needed to solve the problem:\n\n"
        },
        {
            "metadata": {},
            "cell_type": "markdown",
            "source": "\u25cf\tNeighborhoods in Toronto"
        },
        {
            "metadata": {},
            "cell_type": "markdown",
            "source": "    We will web scrape the Neighborhoods of Toronto from Wikipedia. "
        },
        {
            "metadata": {},
            "cell_type": "markdown",
            "source": "\u25cf\tLatitude and longitude of the neighborhood."
        },
        {
            "metadata": {},
            "cell_type": "markdown",
            "source": "    We will try to use geopy and geocoder packages to obtian the coordinates data for each neighbourhood. Another option is to use the data file that was provided as part of the Capstone.  "
        },
        {
            "metadata": {},
            "cell_type": "markdown",
            "source": "\u25cf\tVenue data related to coffee shops"
        },
        {
            "metadata": {},
            "cell_type": "markdown",
            "source": "    The data is provided by Foursquare through there APIs. "
        }
    ],
    "metadata": {
        "kernelspec": {
            "name": "python3",
            "display_name": "Python 3.6",
            "language": "python"
        },
        "language_info": {
            "name": "python",
            "version": "3.6.9",
            "mimetype": "text/x-python",
            "codemirror_mode": {
                "name": "ipython",
                "version": 3
            },
            "pygments_lexer": "ipython3",
            "nbconvert_exporter": "python",
            "file_extension": ".py"
        }
    },
    "nbformat": 4,
    "nbformat_minor": 1
}